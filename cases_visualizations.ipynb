{
 "cells": [
  {
   "cell_type": "code",
   "execution_count": 1,
   "source": [
    "# Load a local copy of the current ODYM branch:\n",
    "import sys\n",
    "import os\n",
    "import numpy as np\n",
    "import pandas as pd\n",
    "import matplotlib.pyplot as plt\n",
    "import pickle\n",
    "#from seaborn.palettes import color_palette\n",
    "import xlrd\n",
    "import pylab\n",
    "from copy import deepcopy\n",
    "import logging as log\n",
    "from xlrd.biffh import BIFF_FIRST_UNICODE\n",
    "import xlwt\n",
    "from scipy.stats import norm\n",
    "from cycler import cycler\n",
    "#import seaborn as sns\n",
    "import dynamic_stock_model as dsm"
   ],
   "outputs": [],
   "metadata": {}
  },
  {
   "cell_type": "code",
   "execution_count": 2,
   "source": [
    "# Loading data\n",
    "path = os.getcwd()\n",
    "data = pd.read_csv(path+\"/old_model/dummy_data_battery.csv\", header=0 , sep=',')\n",
    "# This is just to replace all the void values in \"data\" by 0, which makes things easier\n",
    "data.fillna(0, inplace=True)\n",
    "\n",
    "# We store the time and inflows values in two lists\n",
    "time = data['Time'].tolist()\n",
    "stock_cars = data['Population'].tolist() # FIXME: Is he stock just labeled wrongly as population or is it intended this way?\n",
    "years = len(time)"
   ],
   "outputs": [],
   "metadata": {}
  },
  {
   "cell_type": "code",
   "execution_count": null,
   "source": [],
   "outputs": [],
   "metadata": {}
  }
 ],
 "metadata": {
  "orig_nbformat": 4,
  "language_info": {
   "name": "python",
   "version": "3.7.4",
   "mimetype": "text/x-python",
   "codemirror_mode": {
    "name": "ipython",
    "version": 3
   },
   "pygments_lexer": "ipython3",
   "nbconvert_exporter": "python",
   "file_extension": ".py"
  },
  "kernelspec": {
   "name": "python3",
   "display_name": "Python 3.7.4 64-bit ('IAM': conda)"
  },
  "interpreter": {
   "hash": "d2e968add10d64ad2b3be6e57835fc773ce9c934140c61480cbe8a7410362424"
  }
 },
 "nbformat": 4,
 "nbformat_minor": 2
}
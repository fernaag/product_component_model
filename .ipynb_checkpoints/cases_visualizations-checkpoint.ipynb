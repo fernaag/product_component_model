{
 "cells": [
  {
   "cell_type": "code",
   "execution_count": 1,
   "metadata": {},
   "outputs": [],
   "source": [
    "# Load a local copy of the current ODYM branch:\n",
    "import sys\n",
    "import os\n",
    "import numpy as np\n",
    "import pandas as pd\n",
    "import matplotlib.pyplot as plt\n",
    "import pickle\n",
    "#from seaborn.palettes import color_palette\n",
    "import xlrd\n",
    "import pylab\n",
    "from copy import deepcopy\n",
    "import logging as log\n",
    "from xlrd.biffh import BIFF_FIRST_UNICODE\n",
    "import xlwt\n",
    "from scipy.stats import norm\n",
    "from cycler import cycler\n",
    "#import seaborn as sns\n",
    "import dynamic_stock_model as dsm\n",
    "import product_component_model as pcm"
   ]
  },
  {
   "cell_type": "code",
   "execution_count": 2,
   "metadata": {},
   "outputs": [],
   "source": [
    "# Loading data\n",
    "path = os.getcwd()\n",
    "data = pd.read_csv(path+\"/old_model/dummy_data_battery.csv\", header=0 , sep=',')\n",
    "# This is just to replace all the void values in \"data\" by 0, which makes things easier\n",
    "data.fillna(0, inplace=True)\n",
    "\n",
    "# We store the time and inflows values in two lists\n",
    "time = data['Time'].to_numpy()\n",
    "stock_cars = data['Population'].to_numpy() # FIXME: Is he stock just labeled wrongly as population or is it intended this way?\n",
    "years = len(time)"
   ]
  },
  {
   "cell_type": "code",
   "execution_count": 3,
   "metadata": {},
   "outputs": [
    {
     "name": "stderr",
     "output_type": "stream",
     "text": [
      "\\\\home.ansatt.ntnu.no\\romainb\\Documents\\6. Papers\\7. Battery replacement modeling paper\\Battery_replacements\\product_component_model.py:697: RuntimeWarning: invalid value encountered in true_divide\n",
      "  self.oc_cm[m, 0:m] = self.sc_cm[m-1, 0:m]/self.sf_cm[m-1,0:m] * abs((self.sf_cm[m, 0:m] - self.sf_cm[m-1, 0:m]))# FIXME: Truedev gives a warning for some values, TODO: Double-check if use of sc_cm is correct here rather than sc_pr\n",
      "\\\\home.ansatt.ntnu.no\\romainb\\Documents\\6. Papers\\7. Battery replacement modeling paper\\Battery_replacements\\product_component_model.py:784: RuntimeWarning: overflow encountered in double_scalars\n",
      "  self.oc_cm[m, c] = (self.sc_cm[m-1, c]- self.oc_pr[m, c])/self.sf_cm[m-1,c] * abs((self.sf_cm[m, c] - self.sf_cm[m-1, c]))# Calculating outflows attributed to component failures\n",
      "\\\\home.ansatt.ntnu.no\\romainb\\Documents\\6. Papers\\7. Battery replacement modeling paper\\Battery_replacements\\product_component_model.py:788: RuntimeWarning: invalid value encountered in double_scalars\n",
      "  self.oc_pr[m, c] = self.oc_pr[m, c]+ self.oc_cm[m, c]  - replacement[m,c]\n",
      "\\\\home.ansatt.ntnu.no\\romainb\\Documents\\6. Papers\\7. Battery replacement modeling paper\\Battery_replacements\\product_component_model.py:946: RuntimeWarning: overflow encountered in double_scalars\n",
      "  self.oc_cm[m, c] = (self.sc_cm[m-1, c]- self.oc_pr[m, c])/self.sf_cm[m-1,c] * abs((self.sf_cm[m, c] - self.sf_cm[m-1, c]))# Calculating outflows attributed to component failures\n",
      "\\\\home.ansatt.ntnu.no\\romainb\\Documents\\6. Papers\\7. Battery replacement modeling paper\\Battery_replacements\\product_component_model.py:946: RuntimeWarning: invalid value encountered in double_scalars\n",
      "  self.oc_cm[m, c] = (self.sc_cm[m-1, c]- self.oc_pr[m, c])/self.sf_cm[m-1,c] * abs((self.sf_cm[m, c] - self.sf_cm[m-1, c]))# Calculating outflows attributed to component failures\n"
     ]
    },
    {
     "data": {
      "text/plain": [
       "<matplotlib.legend.Legend at 0x2351c93a430>"
      ]
     },
     "execution_count": 3,
     "metadata": {},
     "output_type": "execute_result"
    }
   ],
   "source": [
    "fig, axs = plt.subplots(4, 3, figsize=(20,20), sharey=True)\n",
    "Model = pcm.ProductComponentModel(t=time, s_pr=stock_cars, lt_cm={'Type': 'Normal', 'Mean':np.array([16]), 'StdDev': np.array([2])}, lt_pr={'Type': 'Normal', 'Mean':np.array([16]), 'StdDev': np.array([4])}, d=0.04, r=0.3, tau_cm=3, tau_pr=3)\n",
    "# Case 1\n",
    "Model.case_1()\n",
    "axs[0, 0].plot(time, Model.i_pr, 'd--', label='Inflow EVs')\n",
    "axs[0, 0].plot(time, Model.i_cm, 'm.', label='Inflow batteries')\n",
    "axs[0, 0].plot(time, Model.oc_pr.sum(axis=1),'r', label='Outflow EVs')\n",
    "axs[0, 0].plot(time, Model.oc_cm.sum(axis=1),'x', label='Outflow batteries')\n",
    "axs[0, 0].set_title('Case 1')\n",
    "axs[0, 0].legend(loc='best')\n",
    "\n",
    "# Case 2\n",
    "Model.case_2()\n",
    "\n",
    "axs[0, 1].plot(time, Model.i_pr, 'd--', label='Inflow EVs')\n",
    "axs[0, 1].plot(time, Model.i_cm, 'm.', label='Inflow batteries')\n",
    "axs[0, 1].plot(time, Model.oc_pr.sum(axis=1),'r', label='Outflow EVs')\n",
    "axs[0, 1].plot(time, Model.o_cm,'x', label='Outflow batteries')\n",
    "axs[0, 1].set_title('Case 2')\n",
    "axs[0, 1].legend(loc='best')\n",
    "\n",
    "# Case 3\n",
    "Model.case_3()\n",
    "\n",
    "axs[0, 2].plot(time, Model.i_pr, 'd--', label='Inflow EVs')\n",
    "axs[0, 2].plot(time, Model.i_cm, 'm.', label='Inflow batteries')\n",
    "axs[0, 2].plot(time, Model.oc_pr.sum(axis=1),'r', label='Outflow EVs')\n",
    "axs[0, 2].plot(time, Model.oc_cm.sum(axis=1),'x', label='Outflow batteries')\n",
    "axs[0, 2].set_title('Case 3')\n",
    "axs[0, 2].legend(loc='best')\n",
    "\n",
    "# Case 4\n",
    "Model = pcm.ProductComponentModel(t=time, s_pr=stock_cars, lt_cm={'Type': 'Normal', 'Mean':np.array([12]), 'StdDev': np.array([3])}, lt_pr={'Type': 'Normal', 'Mean':np.array([16]), 'StdDev': np.array([4])}, d=0.04, r=0.3, tau_cm=3, tau_pr=3)\n",
    "\n",
    "Model.case_4()\n",
    "axs[1, 0].plot(time, Model.i_pr, 'd--', label='Inflow EVs')\n",
    "axs[1, 0].plot(time, Model.i_cm, 'm.', label='Inflow batteries')\n",
    "axs[1, 0].plot(time, Model.oc_pr.sum(axis=1),'r', label='Outflow EVs')\n",
    "axs[1, 0].plot(time, Model.oc_cm.sum(axis=1),'x', label='Outflow batteries')\n",
    "axs[1, 0].set_title('Case 4')\n",
    "axs[1, 0].legend(loc='best')\n",
    "\n",
    "# Case 5\n",
    "Model = pcm.ProductComponentModel(t=time, s_pr=stock_cars, lt_cm={'Type': 'Normal', 'Mean':np.array([12]), 'StdDev': np.array([3])}, lt_pr={'Type': 'Normal', 'Mean':np.array([16]), 'StdDev': np.array([4])}, d=0.04, r=0.3, tau_cm=3, tau_pr=3)\n",
    "\n",
    "Model.case_5()\n",
    "axs[1, 1].plot(time, Model.i_pr, 'd--', label='Inflow EVs')\n",
    "axs[1, 1].plot(time, Model.i_cm, 'm.', label='Inflow batteries')\n",
    "axs[1, 1].plot(time, Model.oc_pr.sum(axis=1),'r', label='Outflow EVs')\n",
    "axs[1, 1].plot(time, Model.oc_cm.sum(axis=1),'x', label='Outflow batteries')\n",
    "axs[1, 1].set_title('Case 5')\n",
    "axs[1, 1].legend(loc='best')\n",
    "\n",
    "\n",
    "# Case 6\n",
    "Model = pcm.ProductComponentModel(t=time, s_pr=stock_cars, lt_cm={'Type': 'Normal', 'Mean':np.array([12]), 'StdDev': np.array([3])}, lt_pr={'Type': 'Normal', 'Mean':np.array([16]), 'StdDev': np.array([4])}, d=0.04, r=0.3, tau_cm=3, tau_pr=3)\n",
    "\n",
    "Model.case_6()\n",
    "\n",
    "axs[1, 2].plot(time, Model.i_pr, 'd--', label='Inflow EVs')\n",
    "axs[1, 2].plot(time, Model.i_cm, 'm.', label='Inflow batteries')\n",
    "axs[1, 2].plot(time, Model.oc_pr.sum(axis=1),'r', label='Outflow EVs')\n",
    "axs[1, 2].plot(time, Model.oc_cm.sum(axis=1),'x', label='Outflow batteries')\n",
    "axs[1, 2].set_title('Case 6')\n",
    "axs[1, 2].legend(loc='best')\n",
    "\n",
    "\n",
    "# Case 7a\n",
    "Model = pcm.ProductComponentModel(t=time, s_pr=stock_cars, lt_cm={'Type': 'Normal', 'Mean':np.array([12]), 'StdDev': np.array([3])}, lt_pr={'Type': 'Normal', 'Mean':np.array([16]), 'StdDev': np.array([4])}, d=0.04, r=0.3, tau_cm=3, tau_pr=3)\n",
    "\n",
    "Model.case_7()\n",
    "\n",
    "axs[2, 0].plot(time, Model.i_pr, 'd--', label='Inflow EVs')\n",
    "axs[2, 0].plot(time, Model.i_cm, 'm.', label='Inflow batteries')\n",
    "axs[2, 0].plot(time, Model.o_pr,'r', label='Outflow EVs')\n",
    "axs[2, 0].plot(time, Model.o_cm,'x', label='Outflow batteries')\n",
    "axs[2, 0].set_title('Case 7')\n",
    "axs[2, 0].legend(loc='best')\n",
    "\n",
    "\n",
    "# Case 8a\n",
    "Model = pcm.ProductComponentModel(t=time, s_pr=stock_cars, lt_cm={'Type': 'Normal', 'Mean':np.array([12]), 'StdDev': np.array([3])}, lt_pr={'Type': 'Normal', 'Mean':np.array([16]), 'StdDev': np.array([4])}, d=0.04, r=0.3, tau_cm=3, tau_pr=3)\n",
    "\n",
    "Model.case_8()\n",
    "\n",
    "axs[2, 1].plot(time, Model.i_pr, 'd--', label='Inflow EVs')\n",
    "axs[2, 1].plot(time, Model.i_cm, 'm.', label='Inflow batteries')\n",
    "axs[2, 1].plot(time, Model.o_pr,'r', label='Outflow EVs')\n",
    "axs[2, 1].plot(time, Model.o_cm,'x', label='Outflow batteries')\n",
    "axs[2, 1].set_title('Case 8')\n",
    "axs[2, 1].legend(loc='best')\n",
    "\n",
    "# Case 9\n",
    "Model = pcm.ProductComponentModel(t=time, s_pr=stock_cars, lt_cm={'Type': 'Normal', 'Mean':np.array([12]), 'StdDev': np.array([3])}, lt_pr={'Type': 'Normal', 'Mean':np.array([16]), 'StdDev': np.array([4])}, d=0.04, r=0.3, tau_cm=3, tau_pr=3)\n",
    "\n",
    "Model.case_9()\n",
    "\n",
    "axs[2, 2].plot(time, Model.i_pr, 'd--', label='Inflow EVs')\n",
    "axs[2, 2].plot(time, Model.i_cm, 'm.', label='Inflow batteries')\n",
    "axs[2, 2].plot(time, Model.oc_pr.sum(axis=1),'r', label='Outflow EVs')\n",
    "axs[2, 2].plot(time, Model.oc_cm.sum(axis=1),'x', label='Outflow batteries')\n",
    "axs[2, 2].set_title('Case 9')\n",
    "axs[2, 2].legend(loc='best')\n",
    "\n",
    "\n",
    "# Case 10\n",
    "Model = pcm.ProductComponentModel(t=time, s_pr=stock_cars, lt_cm={'Type': 'Normal', 'Mean':np.array([12]), 'StdDev': np.array([3])}, lt_pr={'Type': 'Normal', 'Mean':np.array([16]), 'StdDev': np.array([4])}, d=0.04, r=0.3, tau_cm=3, tau_pr=3)\n",
    "\n",
    "Model.case_10()\n",
    "\n",
    "axs[3, 0].plot(time, Model.i_pr, 'd--', label='Inflow EVs')\n",
    "axs[3, 0].plot(time, Model.i_cm, 'm.', label='Inflow batteries')\n",
    "axs[3, 0].plot(time, Model.oc_pr.sum(axis=1),'r', label='Outflow EVs')\n",
    "axs[3, 0].plot(time, Model.oc_cm.sum(axis=1),'x', label='Outflow batteries')\n",
    "axs[3, 0].set_title('Case 10')\n",
    "axs[3, 0].legend(loc='best')\n",
    "\n",
    "\n",
    "# Case 11\n",
    "Model = pcm.ProductComponentModel(t=time, s_pr=stock_cars, lt_cm={'Type': 'Normal', 'Mean':np.array([12]), 'StdDev': np.array([3])}, lt_pr={'Type': 'Normal', 'Mean':np.array([16]), 'StdDev': np.array([4])}, d=0.04, r=0.3, tau_cm=3, tau_pr=3)\n",
    "\n",
    "Model.case_11()\n",
    "\n",
    "axs[3, 1].plot(time, Model.i_pr, 'd--', label='Inflow EVs')\n",
    "axs[3, 1].plot(time, Model.i_cm, 'm.', label='Inflow batteries')\n",
    "axs[3, 1].plot(time, Model.o_pr,'r', label='Outflow EVs')\n",
    "axs[3, 1].plot(time, Model.oc_cm.sum(axis=1),'x', label='Outflow batteries')\n",
    "axs[3, 1].set_title('Case 11')\n",
    "axs[3, 1].legend(loc='best')\n",
    "\n",
    "\n",
    "# Case 12\n",
    "Model = pcm.ProductComponentModel(t=time, s_pr=stock_cars, lt_cm={'Type': 'Normal', 'Mean':np.array([12]), 'StdDev': np.array([3])}, lt_pr={'Type': 'Normal', 'Mean':np.array([16]), 'StdDev': np.array([4])}, d=0.04, r=0.3, tau_cm=3, tau_pr=3)\n",
    "\n",
    "Model.case_12()\n",
    "\n",
    "axs[3, 2].plot(time, Model.i_pr, 'd--', label='Inflow EVs')\n",
    "axs[3, 2].plot(time, Model.i_cm, 'm.', label='Inflow batteries')\n",
    "axs[3, 2].plot(time, Model.o_pr,'r', label='Outflow EVs')\n",
    "axs[3, 2].plot(time, Model.oc_cm.sum(axis=1),'x', label='Outflow batteries')\n",
    "axs[3, 2].set_title('Case 12')\n",
    "axs[3, 2].legend(loc='best')\n"
   ]
  },
  {
   "cell_type": "code",
   "execution_count": 4,
   "metadata": {},
   "outputs": [
    {
     "data": {
      "text/plain": [
       "(array([[2.47262320e-002, 0.00000000e+000, 0.00000000e+000, ...,\n",
       "         0.00000000e+000, 0.00000000e+000, 0.00000000e+000],\n",
       "        [2.47248288e-002, 1.40316027e-006, 0.00000000e+000, ...,\n",
       "         0.00000000e+000, 0.00000000e+000, 0.00000000e+000],\n",
       "        [2.47212629e-002, 1.40308065e-006, 4.22058430e-002, ...,\n",
       "         0.00000000e+000, 0.00000000e+000, 0.00000000e+000],\n",
       "        ...,\n",
       "        [1.00420998e-240, 2.13023836e-241, 2.25024386e-233, ...,\n",
       "         2.66872709e-001, 0.00000000e+000, 0.00000000e+000],\n",
       "        [2.52378058e-244, 5.69867481e-245, 6.40757206e-237, ...,\n",
       "         2.66857564e-001, 2.60687234e-001, 0.00000000e+000],\n",
       "        [5.95881179e-248, 1.43219098e-248, 1.71411192e-240, ...,\n",
       "         2.66819077e-001, 2.60672440e-001, 2.54327359e-001]]),\n",
       " array([0.00000000e+00, 1.40316027e-06, 4.22058430e-02, 4.29518282e-02,\n",
       "        7.00203095e-02, 1.13325215e-01, 1.81280235e-01, 2.84624536e-01,\n",
       "        4.34049473e-01, 6.33376465e-01, 8.67270567e-01, 1.08972837e+00,\n",
       "        1.23098513e+00, 1.23519981e+00, 1.10310591e+00, 8.92060494e-01,\n",
       "        6.73475571e-01, 4.95167637e-01, 3.74402702e-01, 3.09246074e-01,\n",
       "        2.90554148e-01, 3.08383831e-01, 3.53896760e-01, 4.19145966e-01,\n",
       "        4.96347796e-01, 5.77415662e-01, 6.54034510e-01, 7.18270849e-01,\n",
       "        7.63531791e-01, 7.85577419e-01, 7.83266075e-01, 7.58782554e-01,\n",
       "        7.17247133e-01, 6.65781139e-01, 6.12251597e-01, 5.63986267e-01,\n",
       "        5.26726134e-01, 5.03986807e-01, 4.96876426e-01, 5.04310271e-01,\n",
       "        5.23498697e-01, 5.50570339e-01, 5.81213068e-01, 6.11251046e-01,\n",
       "        6.37110493e-01, 6.56151267e-01, 6.66856220e-01, 6.68875898e-01,\n",
       "        6.62947181e-01, 6.50687235e-01, 6.34310854e-01, 6.16298151e-01,\n",
       "        5.99060857e-01, 5.84649074e-01, 5.74533112e-01, 5.69482019e-01,\n",
       "        5.69545027e-01, 5.74127161e-01, 5.82138314e-01, 5.92187641e-01,\n",
       "        6.02792710e-01, 6.12574965e-01, 6.20418634e-01, 6.25577893e-01,\n",
       "        6.27725500e-01, 6.26944144e-01, 6.23668479e-01, 6.18590782e-01,\n",
       "        6.12545954e-01, 6.06392255e-01, 6.00902814e-01, 5.96679977e-01,\n",
       "        5.94100453e-01, 5.93294539e-01, 5.94158180e-01, 5.96392672e-01,\n",
       "        5.99563936e-01, 6.03171812e-01, 6.06719592e-01, 6.09775147e-01,\n",
       "        6.12017009e-01, 6.13261431e-01, 6.13469262e-01, 6.12734130e-01,\n",
       "        6.11255549e-01, 6.09302030e-01, 6.07169914e-01, 6.05143515e-01,\n",
       "        6.03461336e-01, 6.02291853e-01, 6.01720732e-01, 6.01749767e-01,\n",
       "        6.02306308e-01, 6.03260809e-01, 6.04449397e-01, 6.05698097e-01,\n",
       "        6.06845510e-01, 6.07761341e-01, 6.08358935e-01, 6.08600981e-01,\n",
       "        6.08498446e-01, 5.08103670e-01, 5.07493448e-01, 5.06763639e-01,\n",
       "        5.06004229e-01, 5.05283176e-01, 5.04627915e-01, 5.04007579e-01,\n",
       "        5.03317970e-01, 5.02373171e-01, 5.00909740e-01, 4.98610004e-01,\n",
       "        4.95148374e-01, 4.90257890e-01, 4.83804594e-01, 4.75848853e-01,\n",
       "        4.66670463e-01, 4.56741860e-01, 4.46649798e-01, 4.36984465e-01,\n",
       "        4.28227345e-01, 4.20669468e-01, 4.14379642e-01, 4.09224139e-01,\n",
       "        4.04923390e-01, 4.01123756e-01, 3.97464457e-01, 3.93627679e-01,\n",
       "        3.89368825e-01, 3.84529871e-01, 3.79040858e-01, 3.72913676e-01,\n",
       "        3.66230460e-01, 3.59127566e-01, 3.51775811e-01, 3.44358268e-01,\n",
       "        3.37047759e-01, 3.29986753e-01, 3.23272309e-01, 3.16948006e-01,\n",
       "        3.11003616e-01, 3.05382001e-01, 2.99991581e-01, 2.94722016e-01,\n",
       "        2.89460536e-01, 2.84106599e-01, 2.78583118e-01, 2.72843288e-01,\n",
       "        2.66872709e-01, 2.60687234e-01, 2.54327359e-01]),\n",
       " array([0.00000000e+00, 1.40316027e-06, 4.22058430e-02, 4.29518282e-02,\n",
       "        7.00203095e-02, 1.13325215e-01, 1.81280235e-01, 2.84624536e-01,\n",
       "        4.34049473e-01, 6.33376465e-01, 8.67270567e-01, 1.08972837e+00,\n",
       "        1.23098513e+00, 1.23519981e+00, 1.10310591e+00, 8.92060494e-01,\n",
       "        6.73475571e-01, 4.95167637e-01, 3.74402702e-01, 3.09246074e-01,\n",
       "        2.90554148e-01, 3.08383831e-01, 3.53896760e-01, 4.19145966e-01,\n",
       "        4.96347796e-01, 5.77415662e-01, 6.54034510e-01, 7.18270849e-01,\n",
       "        7.63531791e-01, 7.85577419e-01, 7.83266075e-01, 7.58782554e-01,\n",
       "        7.17247133e-01, 6.65781139e-01, 6.12251597e-01, 5.63986267e-01,\n",
       "        5.26726134e-01, 5.03986807e-01, 4.96876426e-01, 5.04310271e-01,\n",
       "        5.23498697e-01, 5.50570339e-01, 5.81213068e-01, 6.11251046e-01,\n",
       "        6.37110493e-01, 6.56151267e-01, 6.66856220e-01, 6.68875898e-01,\n",
       "        6.62947181e-01, 6.50687235e-01, 6.34310854e-01, 6.16298151e-01,\n",
       "        5.99060857e-01, 5.84649074e-01, 5.74533112e-01, 5.69482019e-01,\n",
       "        5.69545027e-01, 5.74127161e-01, 5.82138314e-01, 5.92187641e-01,\n",
       "        6.02792710e-01, 6.12574965e-01, 6.20418634e-01, 6.25577893e-01,\n",
       "        6.27725500e-01, 6.26944144e-01, 6.23668479e-01, 6.18590782e-01,\n",
       "        6.12545954e-01, 6.06392255e-01, 6.00902814e-01, 5.96679977e-01,\n",
       "        5.94100453e-01, 5.93294539e-01, 5.94158180e-01, 5.96392672e-01,\n",
       "        5.99563936e-01, 6.03171812e-01, 6.06719592e-01, 6.09775147e-01,\n",
       "        6.12017009e-01, 6.13261431e-01, 6.13469262e-01, 6.12734130e-01,\n",
       "        6.11255549e-01, 6.09302030e-01, 6.07169914e-01, 6.05143515e-01,\n",
       "        6.03461336e-01, 6.02291853e-01, 6.01720732e-01, 6.01749767e-01,\n",
       "        6.02306308e-01, 6.03260809e-01, 6.04449397e-01, 6.05698097e-01,\n",
       "        6.06845510e-01, 6.07761341e-01, 6.08358935e-01, 6.08600981e-01,\n",
       "        6.08498446e-01, 5.08103670e-01, 5.07493448e-01, 5.06763639e-01,\n",
       "        5.06004229e-01, 5.05283176e-01, 5.04627915e-01, 5.04007579e-01,\n",
       "        5.03317970e-01, 5.02373171e-01, 5.00909740e-01, 4.98610004e-01,\n",
       "        4.95148374e-01, 4.90257890e-01, 4.83804594e-01, 4.75848853e-01,\n",
       "        4.66670463e-01, 4.56741860e-01, 4.46649798e-01, 4.36984465e-01,\n",
       "        4.28227345e-01, 4.20669468e-01, 4.14379642e-01, 4.09224139e-01,\n",
       "        4.04923390e-01, 4.01123756e-01, 3.97464457e-01, 3.93627679e-01,\n",
       "        3.89368825e-01, 3.84529871e-01, 3.79040858e-01, 3.72913676e-01,\n",
       "        3.66230460e-01, 3.59127566e-01, 3.51775811e-01, 3.44358268e-01,\n",
       "        3.37047759e-01, 3.29986753e-01, 3.23272309e-01, 3.16948006e-01,\n",
       "        3.11003616e-01, 3.05382001e-01, 2.99991581e-01, 2.94722016e-01,\n",
       "        2.89460536e-01, 2.84106599e-01, 2.78583118e-01, 2.72843288e-01,\n",
       "        2.66872709e-01, 2.60687234e-01, 2.54327359e-01]),\n",
       " array([[0.00000000e+000, 0.00000000e+000, 0.00000000e+000, ...,\n",
       "         0.00000000e+000, 0.00000000e+000, 0.00000000e+000],\n",
       "        [1.40316027e-006, 0.00000000e+000, 0.00000000e+000, ...,\n",
       "         0.00000000e+000, 0.00000000e+000, 0.00000000e+000],\n",
       "        [3.56592721e-006, 7.96263156e-011, 0.00000000e+000, ...,\n",
       "         0.00000000e+000, 0.00000000e+000, 0.00000000e+000],\n",
       "        ...,\n",
       "        [3.75286260e-237, 7.47894956e-238, 7.42191829e-230, ...,\n",
       "         0.00000000e+000, 0.00000000e+000, 0.00000000e+000],\n",
       "        [1.00395761e-240, 2.12966849e-241, 2.24960311e-233, ...,\n",
       "         1.51444499e-005, 0.00000000e+000, 0.00000000e+000],\n",
       "        [2.52318470e-244, 5.69724262e-245, 6.40585795e-237, ...,\n",
       "         3.84874110e-005, 1.47934376e-005, 0.00000000e+000]]))"
      ]
     },
     "execution_count": 4,
     "metadata": {},
     "output_type": "execute_result"
    }
   ],
   "source": [
    "Model.case_3()\n"
   ]
  },
  {
   "cell_type": "code",
   "execution_count": 5,
   "metadata": {},
   "outputs": [
    {
     "data": {
      "text/plain": [
       "array([-2.47262320e-02, -1.59751450e-02,  1.59751450e-02,  6.93889390e-18,\n",
       "        1.38777878e-17,  0.00000000e+00,  0.00000000e+00,  5.55111512e-17,\n",
       "       -1.11022302e-16,  0.00000000e+00,  0.00000000e+00, -2.22044605e-16,\n",
       "        0.00000000e+00,  6.66133815e-16, -6.66133815e-16,  1.11022302e-16,\n",
       "        8.88178420e-16, -7.77156117e-16, -4.44089210e-16,  3.05311332e-16,\n",
       "        1.11022302e-15, -6.10622664e-16, -2.22044605e-16, -1.33226763e-15,\n",
       "        1.11022302e-15,  2.22044605e-16, -1.77635684e-15,  2.44249065e-15,\n",
       "        7.77156117e-16, -8.88178420e-16, -1.77635684e-15, -2.22044605e-16,\n",
       "        1.77635684e-15, -2.22044605e-16,  0.00000000e+00,  4.44089210e-16,\n",
       "       -4.44089210e-16,  3.33066907e-16,  1.11022302e-16,  6.66133815e-16,\n",
       "       -1.99840144e-15,  1.99840144e-15,  2.22044605e-16, -1.11022302e-15,\n",
       "       -1.66533454e-15,  8.88178420e-16, -6.66133815e-16,  1.99840144e-15,\n",
       "       -2.22044605e-16, -4.44089210e-16, -8.88178420e-16, -2.22044605e-16,\n",
       "        4.44089210e-16,  7.77156117e-16, -2.22044605e-16,  1.22124533e-15,\n",
       "       -2.66453526e-15,  2.22044605e-16,  1.77635684e-15, -1.44328993e-15,\n",
       "        1.33226763e-15, -1.33226763e-15, -6.66133815e-16,  2.22044605e-16,\n",
       "       -6.66133815e-16,  8.88178420e-16,  6.66133815e-16, -8.88178420e-16,\n",
       "        6.66133815e-16, -2.22044605e-16, -2.22044605e-16,  2.22044605e-16,\n",
       "       -4.44089210e-16, -5.55111512e-16,  2.10942375e-15, -9.99200722e-16,\n",
       "        1.11022302e-16,  0.00000000e+00,  1.11022302e-16,  3.33066907e-16,\n",
       "       -1.11022302e-16,  0.00000000e+00, -7.77156117e-16, -1.22124533e-15,\n",
       "        6.66133815e-16,  1.99840144e-15, -1.55431223e-15,  3.33066907e-16,\n",
       "        1.11022302e-15,  0.00000000e+00, -6.66133815e-16, -7.77156117e-16,\n",
       "        6.66133815e-16, -8.88178420e-16,  2.88657986e-15, -1.55431223e-15,\n",
       "        0.00000000e+00,  3.33066907e-16, -8.88178420e-16, -1.11022302e-16,\n",
       "        6.66133815e-16, -1.66533454e-15,  2.22044605e-15, -1.22124533e-15,\n",
       "        1.22124533e-15, -9.99200722e-16,  9.99200722e-16, -8.88178420e-16,\n",
       "        5.55111512e-16,  2.22044605e-16, -8.88178420e-16,  2.22044605e-16,\n",
       "        2.22044605e-16, -1.22124533e-15, -5.55111512e-16,  9.99200722e-16,\n",
       "        7.77156117e-16,  3.33066907e-16, -1.11022302e-16,  1.11022302e-16,\n",
       "       -5.55111512e-16,  2.22044605e-16,  2.22044605e-16,  0.00000000e+00,\n",
       "       -1.55431223e-15,  1.55431223e-15, -5.55111512e-16, -6.66133815e-16,\n",
       "        1.77635684e-15, -1.99840144e-15,  1.22124533e-15, -1.66533454e-16,\n",
       "       -6.10622664e-16,  4.44089210e-16, -9.43689571e-16,  6.10622664e-16,\n",
       "        6.66133815e-16, -1.66533454e-16, -4.99600361e-16,  2.22044605e-16,\n",
       "        6.66133815e-16, -5.55111512e-16,  3.88578059e-16,  3.33066907e-16,\n",
       "       -4.44089210e-16, -1.05471187e-15,  1.05471187e-15,  4.44089210e-16,\n",
       "       -6.66133815e-16,  5.55111512e-17,  9.43689571e-16])"
      ]
     },
     "execution_count": 5,
     "metadata": {},
     "output_type": "execute_result"
    }
   ],
   "source": [
    "Model.check_stock_balance_pr()"
   ]
  },
  {
   "cell_type": "code",
   "execution_count": 6,
   "metadata": {
    "scrolled": true
   },
   "outputs": [
    {
     "data": {
      "text/plain": [
       "array([-2.47262320e-02, -1.59751450e-02,  1.59751450e-02,  6.93889390e-18,\n",
       "        1.38777878e-17,  0.00000000e+00,  0.00000000e+00,  5.55111512e-17,\n",
       "       -1.11022302e-16,  0.00000000e+00,  0.00000000e+00, -2.22044605e-16,\n",
       "        0.00000000e+00,  6.66133815e-16, -6.66133815e-16,  1.11022302e-16,\n",
       "        8.88178420e-16, -7.77156117e-16, -4.44089210e-16,  3.05311332e-16,\n",
       "        1.11022302e-15, -6.10622664e-16, -2.22044605e-16, -1.33226763e-15,\n",
       "        1.11022302e-15,  2.22044605e-16, -1.77635684e-15,  2.44249065e-15,\n",
       "        7.77156117e-16, -8.88178420e-16, -1.77635684e-15, -2.22044605e-16,\n",
       "        1.77635684e-15, -2.22044605e-16,  0.00000000e+00,  4.44089210e-16,\n",
       "       -4.44089210e-16,  3.33066907e-16,  1.11022302e-16,  6.66133815e-16,\n",
       "       -1.99840144e-15,  1.99840144e-15,  2.22044605e-16, -1.11022302e-15,\n",
       "       -1.66533454e-15,  8.88178420e-16, -6.66133815e-16,  1.99840144e-15,\n",
       "       -2.22044605e-16, -4.44089210e-16, -8.88178420e-16, -2.22044605e-16,\n",
       "        4.44089210e-16,  7.77156117e-16, -2.22044605e-16,  1.22124533e-15,\n",
       "       -2.66453526e-15,  2.22044605e-16,  1.77635684e-15, -1.44328993e-15,\n",
       "        1.33226763e-15, -1.33226763e-15, -6.66133815e-16,  2.22044605e-16,\n",
       "       -6.66133815e-16,  8.88178420e-16,  6.66133815e-16, -8.88178420e-16,\n",
       "        6.66133815e-16, -2.22044605e-16, -2.22044605e-16,  2.22044605e-16,\n",
       "       -4.44089210e-16, -5.55111512e-16,  2.10942375e-15, -9.99200722e-16,\n",
       "        1.11022302e-16,  0.00000000e+00,  1.11022302e-16,  3.33066907e-16,\n",
       "       -1.11022302e-16,  0.00000000e+00, -7.77156117e-16, -1.22124533e-15,\n",
       "        6.66133815e-16,  1.99840144e-15, -1.55431223e-15,  3.33066907e-16,\n",
       "        1.11022302e-15,  0.00000000e+00, -6.66133815e-16, -7.77156117e-16,\n",
       "        6.66133815e-16, -8.88178420e-16,  2.88657986e-15, -1.55431223e-15,\n",
       "        0.00000000e+00,  3.33066907e-16, -8.88178420e-16, -1.11022302e-16,\n",
       "        6.66133815e-16, -1.66533454e-15,  2.22044605e-15, -1.22124533e-15,\n",
       "        1.22124533e-15, -9.99200722e-16,  9.99200722e-16, -8.88178420e-16,\n",
       "        5.55111512e-16,  2.22044605e-16, -8.88178420e-16,  2.22044605e-16,\n",
       "        2.22044605e-16, -1.22124533e-15, -5.55111512e-16,  9.99200722e-16,\n",
       "        7.77156117e-16,  3.33066907e-16, -1.11022302e-16,  1.11022302e-16,\n",
       "       -5.55111512e-16,  2.22044605e-16,  2.22044605e-16,  0.00000000e+00,\n",
       "       -1.55431223e-15,  1.55431223e-15, -5.55111512e-16, -6.66133815e-16,\n",
       "        1.77635684e-15, -1.99840144e-15,  1.22124533e-15, -1.66533454e-16,\n",
       "       -6.10622664e-16,  4.44089210e-16, -9.43689571e-16,  6.10622664e-16,\n",
       "        6.66133815e-16, -1.66533454e-16, -4.99600361e-16,  2.22044605e-16,\n",
       "        6.66133815e-16, -5.55111512e-16,  3.88578059e-16,  3.33066907e-16,\n",
       "       -4.44089210e-16, -1.05471187e-15,  1.05471187e-15,  4.44089210e-16,\n",
       "       -6.66133815e-16,  5.55111512e-17,  9.43689571e-16])"
      ]
     },
     "execution_count": 6,
     "metadata": {},
     "output_type": "execute_result"
    }
   ],
   "source": [
    "Model.check_stock_balance_cm()"
   ]
  },
  {
   "cell_type": "code",
   "execution_count": 7,
   "metadata": {
    "scrolled": false
   },
   "outputs": [
    {
     "data": {
      "text/plain": [
       "array([0., 0., 0., 0., 0., 0., 0., 0., 0., 0., 0., 0., 0., 0., 0., 0., 0.,\n",
       "       0., 0., 0., 0., 0., 0., 0., 0., 0., 0., 0., 0., 0., 0., 0., 0., 0.,\n",
       "       0., 0., 0., 0., 0., 0., 0., 0., 0., 0., 0., 0., 0., 0., 0., 0., 0.,\n",
       "       0., 0., 0., 0., 0., 0., 0., 0., 0., 0., 0., 0., 0., 0., 0., 0., 0.,\n",
       "       0., 0., 0., 0., 0., 0., 0., 0., 0., 0., 0., 0., 0., 0., 0., 0., 0.,\n",
       "       0., 0., 0., 0., 0., 0., 0., 0., 0., 0., 0., 0., 0., 0., 0., 0., 0.,\n",
       "       0., 0., 0., 0., 0., 0., 0., 0., 0., 0., 0., 0., 0., 0., 0., 0., 0.,\n",
       "       0., 0., 0., 0., 0., 0., 0., 0., 0., 0., 0., 0., 0., 0., 0., 0., 0.,\n",
       "       0., 0., 0., 0., 0., 0., 0., 0., 0., 0., 0., 0., 0., 0., 0.])"
      ]
     },
     "execution_count": 7,
     "metadata": {},
     "output_type": "execute_result"
    }
   ],
   "source": [
    "Model.check_stock_pr_cm()"
   ]
  },
  {
   "cell_type": "code",
   "execution_count": 8,
   "metadata": {
    "scrolled": true
   },
   "outputs": [
    {
     "name": "stderr",
     "output_type": "stream",
     "text": [
      "<ipython-input-8-26cec0f935e6>:1: RuntimeWarning: invalid value encountered in true_divide\n",
      "  Model.o_cm / Model.o_pr\n"
     ]
    },
    {
     "data": {
      "text/plain": [
       "array([nan,  1.,  1.,  1.,  1.,  1.,  1.,  1.,  1.,  1.,  1.,  1.,  1.,\n",
       "        1.,  1.,  1.,  1.,  1.,  1.,  1.,  1.,  1.,  1.,  1.,  1.,  1.,\n",
       "        1.,  1.,  1.,  1.,  1.,  1.,  1.,  1.,  1.,  1.,  1.,  1.,  1.,\n",
       "        1.,  1.,  1.,  1.,  1.,  1.,  1.,  1.,  1.,  1.,  1.,  1.,  1.,\n",
       "        1.,  1.,  1.,  1.,  1.,  1.,  1.,  1.,  1.,  1.,  1.,  1.,  1.,\n",
       "        1.,  1.,  1.,  1.,  1.,  1.,  1.,  1.,  1.,  1.,  1.,  1.,  1.,\n",
       "        1.,  1.,  1.,  1.,  1.,  1.,  1.,  1.,  1.,  1.,  1.,  1.,  1.,\n",
       "        1.,  1.,  1.,  1.,  1.,  1.,  1.,  1.,  1.,  1.,  1.,  1.,  1.,\n",
       "        1.,  1.,  1.,  1.,  1.,  1.,  1.,  1.,  1.,  1.,  1.,  1.,  1.,\n",
       "        1.,  1.,  1.,  1.,  1.,  1.,  1.,  1.,  1.,  1.,  1.,  1.,  1.,\n",
       "        1.,  1.,  1.,  1.,  1.,  1.,  1.,  1.,  1.,  1.,  1.,  1.,  1.,\n",
       "        1.,  1.,  1.,  1.,  1.,  1.,  1.,  1.])"
      ]
     },
     "execution_count": 8,
     "metadata": {},
     "output_type": "execute_result"
    }
   ],
   "source": [
    "Model.o_cm / Model.o_pr "
   ]
  },
  {
   "cell_type": "code",
   "execution_count": 9,
   "metadata": {},
   "outputs": [
    {
     "data": {
      "text/plain": [
       "0.4742532503009316"
      ]
     },
     "execution_count": 9,
     "metadata": {},
     "output_type": "execute_result"
    }
   ],
   "source": [
    "Model.s_pr[10]/Model.s_pr[9]-1"
   ]
  },
  {
   "cell_type": "code",
   "execution_count": 10,
   "metadata": {},
   "outputs": [
    {
     "data": {
      "text/plain": [
       "array([ 0.02472623,  0.04070138,  0.06692851,  0.10986943,  0.1798621 ,\n",
       "        0.29312231,  0.47425873,  0.7585818 ,  1.19202922,  1.82425524,\n",
       "        2.68941421,  3.77540669,  5.        ,  6.22459331,  7.31058579,\n",
       "        8.17574476,  8.80797078,  9.2414182 ,  9.52574127,  9.70687769,\n",
       "        9.8201379 ,  9.89013057,  9.93307149,  9.95929862,  9.97527377,\n",
       "        9.98498818,  9.99088949,  9.99447221,  9.9966465 ,  9.99796573,\n",
       "        9.99876605,  9.99925154,  9.99954602,  9.99972464,  9.99983299,\n",
       "        9.9998987 ,  9.99993856,  9.99996273,  9.9999774 ,  9.99998629,\n",
       "        9.99999168,  9.99999496,  9.99999694,  9.99999814,  9.99999887,\n",
       "        9.99999932, 10.        , 10.        , 10.        , 10.        ,\n",
       "       10.        , 10.        , 10.        , 10.        , 10.        ,\n",
       "       10.        , 10.        , 10.        , 10.        , 10.        ,\n",
       "       10.        , 10.        , 10.        , 10.        , 10.        ,\n",
       "       10.        , 10.        , 10.        , 10.        , 10.        ,\n",
       "       10.        , 10.        , 10.        , 10.        , 10.        ,\n",
       "       10.        , 10.        , 10.        , 10.        , 10.        ,\n",
       "       10.        , 10.        , 10.        , 10.        , 10.        ,\n",
       "       10.        , 10.        , 10.        , 10.        , 10.        ,\n",
       "       10.        , 10.        , 10.        , 10.        , 10.        ,\n",
       "       10.        , 10.        , 10.        , 10.        , 10.        ,\n",
       "       10.        ,  9.9       ,  9.8       ,  9.7       ,  9.6       ,\n",
       "        9.5       ,  9.4       ,  9.3       ,  9.2       ,  9.1       ,\n",
       "        9.        ,  8.9       ,  8.8       ,  8.7       ,  8.6       ,\n",
       "        8.5       ,  8.4       ,  8.3       ,  8.2       ,  8.1       ,\n",
       "        8.        ,  7.9       ,  7.8       ,  7.7       ,  7.6       ,\n",
       "        7.5       ,  7.4       ,  7.3       ,  7.2       ,  7.1       ,\n",
       "        7.        ,  6.9       ,  6.8       ,  6.7       ,  6.6       ,\n",
       "        6.5       ,  6.4       ,  6.3       ,  6.2       ,  6.1       ,\n",
       "        6.        ,  5.9       ,  5.8       ,  5.7       ,  5.6       ,\n",
       "        5.5       ,  5.4       ,  5.3       ,  5.2       ,  5.1       ,\n",
       "        5.        ])"
      ]
     },
     "execution_count": 10,
     "metadata": {},
     "output_type": "execute_result"
    }
   ],
   "source": [
    "Model.s_pr"
   ]
  }
 ],
 "metadata": {
  "interpreter": {
   "hash": "d2e968add10d64ad2b3be6e57835fc773ce9c934140c61480cbe8a7410362424"
  },
  "kernelspec": {
   "display_name": "Python 3",
   "language": "python",
   "name": "python3"
  },
  "language_info": {
   "codemirror_mode": {
    "name": "ipython",
    "version": 3
   },
   "file_extension": ".py",
   "mimetype": "text/x-python",
   "name": "python",
   "nbconvert_exporter": "python",
   "pygments_lexer": "ipython3",
   "version": "3.8.5"
  }
 },
 "nbformat": 4,
 "nbformat_minor": 2
}
